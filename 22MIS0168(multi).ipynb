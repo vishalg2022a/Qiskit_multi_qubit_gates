{
 "cells": [
  {
   "cell_type": "code",
   "execution_count": null,
   "id": "68bb8c80",
   "metadata": {},
   "outputs": [],
   "source": [
    "#!pip install qiskit qiskit-aer --upgrade\n",
    "#I created Virtual Environmrnt in VS code"
   ]
  }
 ],
 "metadata": {
  "language_info": {
   "name": "python"
  }
 },
 "nbformat": 4,
 "nbformat_minor": 5
}
